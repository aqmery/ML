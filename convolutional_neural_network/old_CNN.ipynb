{
 "cells": [
  {
   "cell_type": "code",
   "execution_count": 1,
   "id": "fe0330c2",
   "metadata": {},
   "outputs": [],
   "source": [
    "import tensorflow as tf\n",
    "from tensorflow.keras import layers\n",
    "from tensorflow.keras.models import Sequential\n",
    "from tensorflow.keras.layers import Dense, Dropout, Activation, Flatten, Conv2D, MaxPooling2D\n",
    "from sklearn.metrics import classification_report\n",
    "import tensorflow.keras.datasets.cifar10\n",
    "import numpy as np\n",
    "import matplotlib.pyplot as plt"
   ]
  },
  {
   "cell_type": "markdown",
   "id": "8a4e49e8",
   "metadata": {},
   "source": [
    "## data preparation "
   ]
  },
  {
   "cell_type": "markdown",
   "id": "34e57af4",
   "metadata": {},
   "source": [
    "load the data and asign it to the train and test variables"
   ]
  },
  {
   "cell_type": "code",
   "execution_count": 2,
   "id": "724fa270",
   "metadata": {},
   "outputs": [],
   "source": [
    "(X_train, y_train), (X_test, y_test) = tensorflow.keras.datasets.cifar10.load_data()"
   ]
  },
  {
   "cell_type": "markdown",
   "id": "4324f8f3",
   "metadata": {},
   "source": [
    "print the shapes of X and y"
   ]
  },
  {
   "cell_type": "code",
   "execution_count": 3,
   "id": "32aad5ea",
   "metadata": {
    "scrolled": true
   },
   "outputs": [
    {
     "name": "stdout",
     "output_type": "stream",
     "text": [
      "X_train shape: (50000, 32, 32, 3), y_train shape: (50000, 1)\n",
      "X_test shape:  (10000, 32, 32, 3), y_test shape:  (10000, 1)\n"
     ]
    }
   ],
   "source": [
    "print(f\"X_train shape: {X_train.shape}, y_train shape: {y_train.shape}\")\n",
    "print(f\"X_test shape:  {X_test.shape}, y_test shape:  {y_test.shape}\")"
   ]
  },
  {
   "cell_type": "markdown",
   "id": "a9dc6372",
   "metadata": {},
   "source": [
    "reshapes y_train and y_test so it's 1 array instead of an array of lists with 1 item"
   ]
  },
  {
   "cell_type": "code",
   "execution_count": 4,
   "id": "1ca4f974",
   "metadata": {},
   "outputs": [
    {
     "name": "stdout",
     "output_type": "stream",
     "text": [
      "[[3]\n",
      " [8]\n",
      " [8]\n",
      " [0]\n",
      " [6]]\n"
     ]
    }
   ],
   "source": [
    "print(y_test[:5])"
   ]
  },
  {
   "cell_type": "code",
   "execution_count": 5,
   "id": "d767720d",
   "metadata": {},
   "outputs": [],
   "source": [
    "y_train = y_train.reshape(-1,)\n",
    "y_test = y_test.reshape(-1,)"
   ]
  },
  {
   "cell_type": "code",
   "execution_count": 6,
   "id": "074cc617",
   "metadata": {},
   "outputs": [
    {
     "name": "stdout",
     "output_type": "stream",
     "text": [
      "[3 8 8 0 6]\n"
     ]
    }
   ],
   "source": [
    "print(y_test[:5])"
   ]
  },
  {
   "cell_type": "markdown",
   "id": "75793c19",
   "metadata": {},
   "source": [
    "print the shapes of X and y"
   ]
  },
  {
   "cell_type": "code",
   "execution_count": 7,
   "id": "f31a0ba5",
   "metadata": {
    "scrolled": true
   },
   "outputs": [
    {
     "name": "stdout",
     "output_type": "stream",
     "text": [
      "X_train shape: (50000, 32, 32, 3), y_train shape: (50000,)\n",
      "X_test shape:  (10000, 32, 32, 3), y_test shape:  (10000,)\n"
     ]
    }
   ],
   "source": [
    "print(f\"X_train shape: {X_train.shape}, y_train shape: {y_train.shape}\")\n",
    "print(f\"X_test shape:  {X_test.shape}, y_test shape:  {y_test.shape}\")"
   ]
  },
  {
   "cell_type": "markdown",
   "id": "83f73c5b",
   "metadata": {},
   "source": [
    "creates a list of class names"
   ]
  },
  {
   "cell_type": "code",
   "execution_count": 8,
   "id": "9345ca41",
   "metadata": {},
   "outputs": [],
   "source": [
    "classes = [\"airplane\",\"automobile\",\"bird\",\"cat\",\"deer\",\"dog\",\"frog\",\"horse\",\"ship\",\"truck\"]"
   ]
  },
  {
   "cell_type": "markdown",
   "id": "b4ae4741",
   "metadata": {},
   "source": [
    "## the first convolutional neural network"
   ]
  },
  {
   "cell_type": "markdown",
   "id": "510aa6a9",
   "metadata": {},
   "source": [
    "creates a CNN named cnn1.\n",
    "\n",
    "In cnn1 i use multiple Conv2D layers the first one takes the input shape of the images 32x32 and 3 colors,\n",
    "the rest just take the input from the layer above.\n",
    "\n",
    "For all of them i use the \"leaky_relu\" activation function as using most other activation functions gave worse results.\n",
    "\n",
    "I use padding=\"same\" for all of them to keep the output the same shape as the input.\n",
    "\n",
    "Inbetween the Conv2D layers i use a MaxPooling2D layer to reduce the overall parameters and highlight the more important features that the Conv2D layer found."
   ]
  },
  {
   "cell_type": "code",
   "execution_count": 9,
   "id": "64a53461",
   "metadata": {},
   "outputs": [],
   "source": [
    "cnn1 = Sequential([\n",
    "    layers.Conv2D(64, (3,3), activation='leaky_relu', padding=\"same\", input_shape=(32,32,3)),\n",
    "    layers.MaxPooling2D((2,2)),\n",
    "    layers.Conv2D(128, (3,3), activation=\"leaky_relu\", padding=\"same\"),\n",
    "    layers.MaxPooling2D((2, 2)),\n",
    "    layers.Conv2D(32, (3,3), activation=\"leaky_relu\", padding=\"same\"),\n",
    "    layers.MaxPooling2D((2, 2)),\n",
    "    layers.MaxPooling2D((2, 2)),\n",
    "    layers.Flatten(),\n",
    "    layers.Dense(64, activation = \"relu\"),\n",
    "    layers.Dense(10, activation=\"softmax\")])"
   ]
  },
  {
   "cell_type": "code",
   "execution_count": 10,
   "id": "98fe651d",
   "metadata": {},
   "outputs": [],
   "source": [
    "cnn1.compile(optimizer='adam',\n",
    "              loss='sparse_categorical_crossentropy',\n",
    "              metrics=['accuracy'])"
   ]
  },
  {
   "cell_type": "code",
   "execution_count": 11,
   "id": "f2d5c633",
   "metadata": {},
   "outputs": [
    {
     "name": "stdout",
     "output_type": "stream",
     "text": [
      "Model: \"sequential\"\n",
      "_________________________________________________________________\n",
      " Layer (type)                Output Shape              Param #   \n",
      "=================================================================\n",
      " conv2d (Conv2D)             (None, 32, 32, 64)        1792      \n",
      "                                                                 \n",
      " max_pooling2d (MaxPooling2D  (None, 16, 16, 64)       0         \n",
      " )                                                               \n",
      "                                                                 \n",
      " conv2d_1 (Conv2D)           (None, 16, 16, 128)       73856     \n",
      "                                                                 \n",
      " max_pooling2d_1 (MaxPooling  (None, 8, 8, 128)        0         \n",
      " 2D)                                                             \n",
      "                                                                 \n",
      " conv2d_2 (Conv2D)           (None, 8, 8, 32)          36896     \n",
      "                                                                 \n",
      " max_pooling2d_2 (MaxPooling  (None, 4, 4, 32)         0         \n",
      " 2D)                                                             \n",
      "                                                                 \n",
      " max_pooling2d_3 (MaxPooling  (None, 2, 2, 32)         0         \n",
      " 2D)                                                             \n",
      "                                                                 \n",
      " flatten (Flatten)           (None, 128)               0         \n",
      "                                                                 \n",
      " dense (Dense)               (None, 64)                8256      \n",
      "                                                                 \n",
      " dense_1 (Dense)             (None, 10)                650       \n",
      "                                                                 \n",
      "=================================================================\n",
      "Total params: 121,450\n",
      "Trainable params: 121,450\n",
      "Non-trainable params: 0\n",
      "_________________________________________________________________\n"
     ]
    }
   ],
   "source": [
    "cnn1.summary()"
   ]
  },
  {
   "cell_type": "code",
   "execution_count": 12,
   "id": "30846998",
   "metadata": {},
   "outputs": [
    {
     "name": "stdout",
     "output_type": "stream",
     "text": [
      "Epoch 1/10\n",
      "1563/1563 [==============================] - 49s 31ms/step - loss: 1.8158 - accuracy: 0.4055 - val_loss: 1.4328 - val_accuracy: 0.4967\n",
      "Epoch 2/10\n",
      "1563/1563 [==============================] - 49s 31ms/step - loss: 1.3052 - accuracy: 0.5381 - val_loss: 1.2575 - val_accuracy: 0.5552\n",
      "Epoch 3/10\n",
      "1563/1563 [==============================] - 48s 31ms/step - loss: 1.1456 - accuracy: 0.5995 - val_loss: 1.1820 - val_accuracy: 0.5880\n",
      "Epoch 4/10\n",
      "1563/1563 [==============================] - 48s 31ms/step - loss: 1.0630 - accuracy: 0.6295 - val_loss: 1.1548 - val_accuracy: 0.6124\n",
      "Epoch 5/10\n",
      "1563/1563 [==============================] - 48s 31ms/step - loss: 0.9852 - accuracy: 0.6564 - val_loss: 1.0572 - val_accuracy: 0.6354\n",
      "Epoch 6/10\n",
      "1563/1563 [==============================] - 49s 31ms/step - loss: 0.9304 - accuracy: 0.6785 - val_loss: 1.0148 - val_accuracy: 0.6654\n",
      "Epoch 7/10\n",
      "1563/1563 [==============================] - 48s 31ms/step - loss: 0.8794 - accuracy: 0.6934 - val_loss: 0.9831 - val_accuracy: 0.6599\n",
      "Epoch 8/10\n",
      "1563/1563 [==============================] - 49s 31ms/step - loss: 0.8502 - accuracy: 0.7036 - val_loss: 0.9493 - val_accuracy: 0.6763\n",
      "Epoch 9/10\n",
      "1563/1563 [==============================] - 48s 31ms/step - loss: 0.8146 - accuracy: 0.7158 - val_loss: 0.9236 - val_accuracy: 0.6896\n",
      "Epoch 10/10\n",
      "1563/1563 [==============================] - 48s 31ms/step - loss: 0.7759 - accuracy: 0.7274 - val_loss: 0.8896 - val_accuracy: 0.6966\n"
     ]
    }
   ],
   "source": [
    "history1 = cnn1.fit(X_train, y_train, epochs=10, validation_data = (X_test, y_test))"
   ]
  },
  {
   "cell_type": "code",
   "execution_count": 13,
   "id": "b5f72b24",
   "metadata": {
    "scrolled": false
   },
   "outputs": [
    {
     "data": {
      "image/png": "[encoded data removed]",
      "text/plain": [
       "<Figure size 640x480 with 1 Axes>"
      ]
     },
     "metadata": {},
     "output_type": "display_data"
    }
   ],
   "source": [
    "plt.plot(history1.history[\"accuracy\"], label=\"accuracy\")\n",
    "plt.plot(history1.history[\"val_accuracy\"], label=\"val_accuracy\")\n",
    "plt.plot(history1.history[\"loss\"], label=\"loss\")\n",
    "plt.plot(history1.history[\"val_loss\"], label=\"val_loss\")\n",
    "plt.legend([\"accuracy\", \"val_accuracy\", \"loss\", \"val_loss\"], loc=\"upper right\")\n",
    "plt.xlabel(\"epoch\")\n",
    "plt.ylabel(\"accuracy\")\n",
    "plt.show()"
   ]
  },
  {
   "cell_type": "code",
   "execution_count": 14,
   "id": "3385297a",
   "metadata": {
    "scrolled": false
   },
   "outputs": [
    {
     "name": "stdout",
     "output_type": "stream",
     "text": [
      "313/313 [==============================] - 2s 8ms/step\n",
      "              precision    recall  f1-score   support\n",
      "\n",
      "           0       0.71      0.75      0.73      1000\n",
      "           1       0.87      0.82      0.84      1000\n",
      "           2       0.70      0.48      0.57      1000\n",
      "           3       0.53      0.42      0.47      1000\n",
      "           4       0.56      0.74      0.64      1000\n",
      "           5       0.52      0.69      0.59      1000\n",
      "           6       0.74      0.77      0.75      1000\n",
      "           7       0.80      0.70      0.75      1000\n",
      "           8       0.81      0.80      0.81      1000\n",
      "           9       0.81      0.80      0.80      1000\n",
      "\n",
      "    accuracy                           0.70     10000\n",
      "   macro avg       0.71      0.70      0.70     10000\n",
      "weighted avg       0.71      0.70      0.70     10000\n",
      "\n"
     ]
    }
   ],
   "source": [
    "y_percent = cnn1.predict(X_test)\n",
    "y_percent_sample = np.argmax(y_percent, axis=1)\n",
    "print(classification_report(y_test, y_percent_sample))"
   ]
  },
  {
   "cell_type": "code",
   "execution_count": 15,
   "id": "ea3be3c1",
   "metadata": {},
   "outputs": [
    {
     "name": "stdout",
     "output_type": "stream",
     "text": [
      "313/313 [==============================] - 2s 8ms/step\n"
     ]
    }
   ],
   "source": [
    "y_pred = cnn1.predict(X_test)\n",
    "y_pred_labels = np.argmax(y_pred, axis=1)"
   ]
  },
  {
   "cell_type": "code",
   "execution_count": null,
   "id": "ca98671e",
   "metadata": {},
   "outputs": [],
   "source": []
  },
  {
   "cell_type": "code",
   "execution_count": null,
   "id": "db6ca1fd",
   "metadata": {},
   "outputs": [],
   "source": []
  },
  {
   "cell_type": "code",
   "execution_count": null,
   "id": "47094ff7",
   "metadata": {},
   "outputs": [],
   "source": []
  },
  {
   "cell_type": "markdown",
   "id": "2bdf267e",
   "metadata": {},
   "source": [
    "## normalization"
   ]
  },
  {
   "cell_type": "markdown",
   "id": "d62ff258",
   "metadata": {},
   "source": [
    "normalize the X data from: between 0 and 255, to between 0 and 1"
   ]
  },
  {
   "cell_type": "code",
   "execution_count": 16,
   "id": "eb3dbf5c",
   "metadata": {},
   "outputs": [
    {
     "name": "stdout",
     "output_type": "stream",
     "text": [
      "[59 62 63]\n"
     ]
    }
   ],
   "source": [
    "print(X_train[0][0][0])"
   ]
  },
  {
   "cell_type": "code",
   "execution_count": 17,
   "id": "8c9388fe",
   "metadata": {},
   "outputs": [],
   "source": [
    "X_train = X_train/255\n",
    "X_test = X_test/255"
   ]
  },
  {
   "cell_type": "code",
   "execution_count": 18,
   "id": "ff7b6797",
   "metadata": {
    "scrolled": true
   },
   "outputs": [
    {
     "name": "stdout",
     "output_type": "stream",
     "text": [
      "[0.23137255 0.24313725 0.24705882]\n"
     ]
    }
   ],
   "source": [
    "print(X_train[0][0][0])"
   ]
  },
  {
   "cell_type": "markdown",
   "id": "977689b6",
   "metadata": {},
   "source": [
    "## the second convolutional neural network"
   ]
  },
  {
   "cell_type": "markdown",
   "id": "a68b7b37",
   "metadata": {},
   "source": [
    "For the second model i looked into a few of the additional techniques: dropout, regularization, weight decay and a different loss function, but i didn't really see any quantifiable improvement in the model for most of these.\n",
    "\n",
    "At most i got the second model around 75% but the first one also got that with some of the runs.\n",
    "\n",
    "Eventhough it took quite a bit longer to train."
   ]
  },
  {
   "cell_type": "code",
   "execution_count": 19,
   "id": "1728a841",
   "metadata": {},
   "outputs": [],
   "source": [
    "cnn2 = Sequential([\n",
    "    layers.Conv2D(64, (3,3), activation='leaky_relu', padding=\"same\", \n",
    "                  input_shape=(32,32,3), kernel_initializer='glorot_uniform'),\n",
    "    layers.MaxPooling2D((2,2)),\n",
    "    layers.Dropout(0.2),\n",
    "    layers.Conv2D(128, (3,3), activation=\"leaky_relu\", padding=\"same\"),\n",
    "    layers.MaxPooling2D((2, 2)),\n",
    "    layers.Dropout(0.2),\n",
    "    layers.Conv2D(32, (3,3), activation=\"leaky_relu\", padding=\"same\"),\n",
    "    layers.MaxPooling2D((2, 2)),\n",
    "    layers.MaxPooling2D((2, 2)),\n",
    "    layers.Dropout(0.2),\n",
    "    layers.Flatten(),\n",
    "    layers.Dense(64, activation = \"leaky_relu\"),\n",
    "    layers.Dense(10, activation=\"softmax\")])"
   ]
  },
  {
   "cell_type": "code",
   "execution_count": 20,
   "id": "53362ef7",
   "metadata": {},
   "outputs": [],
   "source": [
    "cnn2.compile(optimizer='adam',\n",
    "              loss='sparse_categorical_crossentropy',\n",
    "              metrics=['accuracy'])"
   ]
  },
  {
   "cell_type": "code",
   "execution_count": 21,
   "id": "1449ac27",
   "metadata": {},
   "outputs": [
    {
     "name": "stdout",
     "output_type": "stream",
     "text": [
      "Model: \"sequential_1\"\n",
      "_________________________________________________________________\n",
      " Layer (type)                Output Shape              Param #   \n",
      "=================================================================\n",
      " conv2d_3 (Conv2D)           (None, 32, 32, 64)        1792      \n",
      "                                                                 \n",
      " max_pooling2d_4 (MaxPooling  (None, 16, 16, 64)       0         \n",
      " 2D)                                                             \n",
      "                                                                 \n",
      " dropout (Dropout)           (None, 16, 16, 64)        0         \n",
      "                                                                 \n",
      " conv2d_4 (Conv2D)           (None, 16, 16, 128)       73856     \n",
      "                                                                 \n",
      " max_pooling2d_5 (MaxPooling  (None, 8, 8, 128)        0         \n",
      " 2D)                                                             \n",
      "                                                                 \n",
      " dropout_1 (Dropout)         (None, 8, 8, 128)         0         \n",
      "                                                                 \n",
      " conv2d_5 (Conv2D)           (None, 8, 8, 32)          36896     \n",
      "                                                                 \n",
      " max_pooling2d_6 (MaxPooling  (None, 4, 4, 32)         0         \n",
      " 2D)                                                             \n",
      "                                                                 \n",
      " max_pooling2d_7 (MaxPooling  (None, 2, 2, 32)         0         \n",
      " 2D)                                                             \n",
      "                                                                 \n",
      " dropout_2 (Dropout)         (None, 2, 2, 32)          0         \n",
      "                                                                 \n",
      " flatten_1 (Flatten)         (None, 128)               0         \n",
      "                                                                 \n",
      " dense_2 (Dense)             (None, 64)                8256      \n",
      "                                                                 \n",
      " dense_3 (Dense)             (None, 10)                650       \n",
      "                                                                 \n",
      "=================================================================\n",
      "Total params: 121,450\n",
      "Trainable params: 121,450\n",
      "Non-trainable params: 0\n",
      "_________________________________________________________________\n"
     ]
    }
   ],
   "source": [
    "cnn2.summary()"
   ]
  },
  {
   "cell_type": "code",
   "execution_count": 22,
   "id": "48f10015",
   "metadata": {},
   "outputs": [
    {
     "name": "stdout",
     "output_type": "stream",
     "text": [
      "Epoch 1/10\n",
      "1563/1563 [==============================] - 54s 34ms/step - loss: 1.6008 - accuracy: 0.4120 - val_loss: 1.2789 - val_accuracy: 0.5420\n",
      "Epoch 2/10\n",
      "1563/1563 [==============================] - 53s 34ms/step - loss: 1.2454 - accuracy: 0.5522 - val_loss: 1.1526 - val_accuracy: 0.5905\n",
      "Epoch 3/10\n",
      "1563/1563 [==============================] - 52s 34ms/step - loss: 1.1229 - accuracy: 0.5995 - val_loss: 0.9818 - val_accuracy: 0.6532\n",
      "Epoch 4/10\n",
      "1563/1563 [==============================] - 54s 34ms/step - loss: 1.0402 - accuracy: 0.6310 - val_loss: 0.9887 - val_accuracy: 0.6495\n",
      "Epoch 5/10\n",
      "1563/1563 [==============================] - 53s 34ms/step - loss: 0.9803 - accuracy: 0.6525 - val_loss: 0.8726 - val_accuracy: 0.6937\n",
      "Epoch 6/10\n",
      "1563/1563 [==============================] - 53s 34ms/step - loss: 0.9368 - accuracy: 0.6677 - val_loss: 0.8515 - val_accuracy: 0.7019\n",
      "Epoch 7/10\n",
      "1563/1563 [==============================] - 54s 34ms/step - loss: 0.9101 - accuracy: 0.6778 - val_loss: 0.8293 - val_accuracy: 0.7085\n",
      "Epoch 8/10\n",
      "1563/1563 [==============================] - 53s 34ms/step - loss: 0.8747 - accuracy: 0.6900 - val_loss: 0.8301 - val_accuracy: 0.7078\n",
      "Epoch 9/10\n",
      "1563/1563 [==============================] - 52s 33ms/step - loss: 0.8484 - accuracy: 0.7011 - val_loss: 0.7839 - val_accuracy: 0.7288\n",
      "Epoch 10/10\n",
      "1563/1563 [==============================] - 53s 34ms/step - loss: 0.8317 - accuracy: 0.7064 - val_loss: 0.8350 - val_accuracy: 0.7087\n"
     ]
    }
   ],
   "source": [
    "history2 = cnn2.fit(X_train, y_train, epochs=10, validation_data = (X_test, y_test))"
   ]
  },
  {
   "cell_type": "code",
   "execution_count": 23,
   "id": "4d2faad8",
   "metadata": {},
   "outputs": [
    {
     "data": {
      "image/png": "[encoded data removed]",
      "text/plain": [
       "<Figure size 640x480 with 1 Axes>"
      ]
     },
     "metadata": {},
     "output_type": "display_data"
    }
   ],
   "source": [
    "plt.plot(history2.history[\"accuracy\"], label=\"accuracy\")\n",
    "plt.plot(history2.history[\"val_accuracy\"], label=\"val_accuracy\")\n",
    "plt.plot(history2.history[\"loss\"], label=\"loss\")\n",
    "plt.plot(history2.history[\"val_loss\"], label=\"val_loss\")\n",
    "plt.legend([\"accuracy\", \"val_accuracy\", \"loss\", \"val_loss\"], loc=\"upper right\")\n",
    "plt.xlabel(\"epoch\")\n",
    "plt.ylabel(\"accuracy\")\n",
    "plt.show()"
   ]
  },
  {
   "cell_type": "code",
   "execution_count": 24,
   "id": "b3b37222",
   "metadata": {},
   "outputs": [
    {
     "name": "stdout",
     "output_type": "stream",
     "text": [
      "313/313 [==============================] - 3s 8ms/step\n",
      "              precision    recall  f1-score   support\n",
      "\n",
      "           0       0.73      0.77      0.75      1000\n",
      "           1       0.73      0.95      0.82      1000\n",
      "           2       0.57      0.62      0.59      1000\n",
      "           3       0.60      0.37      0.46      1000\n",
      "           4       0.70      0.66      0.68      1000\n",
      "           5       0.75      0.48      0.58      1000\n",
      "           6       0.60      0.91      0.73      1000\n",
      "           7       0.82      0.72      0.77      1000\n",
      "           8       0.81      0.86      0.84      1000\n",
      "           9       0.83      0.74      0.78      1000\n",
      "\n",
      "    accuracy                           0.71     10000\n",
      "   macro avg       0.71      0.71      0.70     10000\n",
      "weighted avg       0.71      0.71      0.70     10000\n",
      "\n"
     ]
    }
   ],
   "source": [
    "y_percent = cnn2.predict(X_test)\n",
    "y_percent_sample = np.argmax(y_percent, axis=1)\n",
    "print(classification_report(y_test, y_percent_sample))"
   ]
  },
  {
   "cell_type": "code",
   "execution_count": null,
   "id": "386b5b5e",
   "metadata": {},
   "outputs": [],
   "source": []
  },
  {
   "cell_type": "code",
   "execution_count": null,
   "id": "c57426ad",
   "metadata": {},
   "outputs": [],
   "source": []
  },
  {
   "cell_type": "code",
   "execution_count": null,
   "id": "64b56dd7",
   "metadata": {},
   "outputs": [],
   "source": []
  },
  {
   "cell_type": "code",
   "execution_count": null,
   "id": "51cc79a5",
   "metadata": {},
   "outputs": [],
   "source": []
  },
  {
   "cell_type": "code",
   "execution_count": null,
   "id": "edcf9d25",
   "metadata": {},
   "outputs": [],
   "source": []
  },
  {
   "cell_type": "code",
   "execution_count": null,
   "id": "ab2d16a7",
   "metadata": {},
   "outputs": [],
   "source": []
  },
  {
   "cell_type": "code",
   "execution_count": 33,
   "id": "7441f05f",
   "metadata": {},
   "outputs": [
    {
     "name": "stdout",
     "output_type": "stream",
     "text": [
      "313/313 [==============================] - 2s 8ms/step\n"
     ]
    }
   ],
   "source": [
    "y_pred = cnn2.predict(X_test)"
   ]
  },
  {
   "cell_type": "code",
   "execution_count": 34,
   "id": "b96c57c3",
   "metadata": {},
   "outputs": [
    {
     "data": {
      "text/plain": [
       "[3, 1, 8, 8, 6, 6, 1, 6, 3, 1, 0, 9, 4, 7, 9]"
      ]
     },
     "execution_count": 34,
     "metadata": {},
     "output_type": "execute_result"
    }
   ],
   "source": [
    "y_classes = [np.argmax(i) for i in y_pred]\n",
    "y_classes[:15]"
   ]
  },
  {
   "cell_type": "code",
   "execution_count": 35,
   "id": "1d7f6c68",
   "metadata": {},
   "outputs": [
    {
     "data": {
      "text/plain": [
       "array([3, 8, 8, 0, 6, 6, 1, 6, 3, 1, 0, 9, 5, 7, 9], dtype=uint8)"
      ]
     },
     "execution_count": 35,
     "metadata": {},
     "output_type": "execute_result"
    }
   ],
   "source": [
    "y_test[:15]"
   ]
  },
  {
   "cell_type": "code",
   "execution_count": 38,
   "id": "69d85936",
   "metadata": {},
   "outputs": [],
   "source": [
    "def plot_sample(X, y, index):\n",
    "    plt.figure(figsize = (15,2))\n",
    "    plt.imshow(X[index])\n",
    "    plt.xlabel(classes[y[index]])"
   ]
  },
  {
   "cell_type": "code",
   "execution_count": 40,
   "id": "f39b2a41",
   "metadata": {},
   "outputs": [
    {
     "data": {
      "image/png": "[encoded data removed]",
      "text/plain": [
       "<Figure size 1500x200 with 1 Axes>"
      ]
     },
     "metadata": {},
     "output_type": "display_data"
    }
   ],
   "source": [
    "plot_sample(X_test, y_test, 2)"
   ]
  },
  {
   "cell_type": "code",
   "execution_count": null,
   "id": "e236bf4e",
   "metadata": {},
   "outputs": [],
   "source": []
  },
  {
   "cell_type": "code",
   "execution_count": null,
   "id": "f1ebc91a",
   "metadata": {},
   "outputs": [],
   "source": []
  }
 ],
 "metadata": {
  "kernelspec": {
   "display_name": "Python 3 (ipykernel)",
   "language": "python",
   "name": "python3"
  },
  "language_info": {
   "codemirror_mode": {
    "name": "ipython",
    "version": 3
   },
   "file_extension": ".py",
   "mimetype": "text/x-python",
   "name": "python",
   "nbconvert_exporter": "python",
   "pygments_lexer": "ipython3",
   "version": "3.9.16"
  }
 },
 "nbformat": 4,
 "nbformat_minor": 5
}
